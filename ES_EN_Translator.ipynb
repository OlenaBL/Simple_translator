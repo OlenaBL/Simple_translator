{
 "cells": [
  {
   "cell_type": "markdown",
   "metadata": {},
   "source": [
    "Simple translator for 200 common Spansih words (Spanish to English and English to Spanish)"
   ]
  },
  {
   "cell_type": "code",
   "execution_count": 16,
   "metadata": {},
   "outputs": [],
   "source": [
    "import nltk\n",
    "#nltk.download('swadesh')\n",
    "from nltk.corpus import swadesh"
   ]
  },
  {
   "cell_type": "code",
   "execution_count": null,
   "metadata": {},
   "outputs": [],
   "source": [
    "swadesh.fileids()\n",
    "swadesh.words('es')"
   ]
  },
  {
   "cell_type": "markdown",
   "metadata": {},
   "source": [
    "Spanish to English pairs"
   ]
  },
  {
   "cell_type": "code",
   "execution_count": 23,
   "metadata": {},
   "outputs": [
    {
     "data": {
      "text/plain": [
       "[('yo', 'I'),\n",
       " ('tú, usted', 'you (singular), thou'),\n",
       " ('él', 'he'),\n",
       " ('nosotros', 'we'),\n",
       " ('vosotros, ustedes', 'you (plural)'),\n",
       " ('ellos, ellas', 'they'),\n",
       " ('este', 'this'),\n",
       " ('ese, aquel', 'that'),\n",
       " ('aquí, acá', 'here'),\n",
       " ('ahí, allí, allá', 'there'),\n",
       " ('quien', 'who'),\n",
       " ('que', 'what'),\n",
       " ('donde', 'where'),\n",
       " ('cuando', 'when'),\n",
       " ('como', 'how'),\n",
       " ('no', 'not'),\n",
       " ('todo', 'all'),\n",
       " ('muchos', 'many'),\n",
       " ('algunos, unos', 'some'),\n",
       " ('poco', 'few'),\n",
       " ('otro', 'other'),\n",
       " ('uno', 'one'),\n",
       " ('dos', 'two'),\n",
       " ('tres', 'three'),\n",
       " ('cuatro', 'four'),\n",
       " ('cinco', 'five'),\n",
       " ('grande', 'big'),\n",
       " ('largo', 'long'),\n",
       " ('ancho', 'wide'),\n",
       " ('gordo', 'thick'),\n",
       " ('pesado', 'heavy'),\n",
       " ('pequeño', 'small'),\n",
       " ('corto', 'short'),\n",
       " ('estrecho, angosto', 'narrow'),\n",
       " ('delgado, flaco', 'thin'),\n",
       " ('mujer', 'woman'),\n",
       " ('hombre', 'man (adult male)'),\n",
       " ('hombre', 'man (human being)'),\n",
       " ('niño', 'child'),\n",
       " ('esposa, mujer', 'wife'),\n",
       " ('esposo, marido', 'husband'),\n",
       " ('madre', 'mother'),\n",
       " ('padre', 'father'),\n",
       " ('animal', 'animal'),\n",
       " ('pez, pescado', 'fish'),\n",
       " ('ave, pájaro', 'bird'),\n",
       " ('perro', 'dog'),\n",
       " ('piojo', 'louse'),\n",
       " ('serpiente, culebra', 'snake'),\n",
       " ('gusano', 'worm'),\n",
       " ('árbol', 'tree'),\n",
       " ('bosque', 'forest'),\n",
       " ('palo', 'stick'),\n",
       " ('fruta', 'fruit'),\n",
       " ('semilla', 'seed'),\n",
       " ('hoja', 'leaf'),\n",
       " ('raíz', 'root'),\n",
       " ('corteza', 'bark (from tree)'),\n",
       " ('flor', 'flower'),\n",
       " ('hierba, pasto', 'grass'),\n",
       " ('cuerda', 'rope'),\n",
       " ('piel', 'skin'),\n",
       " ('carne', 'meat'),\n",
       " ('sangre', 'blood'),\n",
       " ('hueso', 'bone'),\n",
       " ('grasa', 'fat (noun)'),\n",
       " ('huevo', 'egg'),\n",
       " ('cuerno', 'horn'),\n",
       " ('cola', 'tail'),\n",
       " ('pluma', 'feather'),\n",
       " ('cabello, pelo', 'hair'),\n",
       " ('cabeza', 'head'),\n",
       " ('oreja', 'ear'),\n",
       " ('ojo', 'eye'),\n",
       " ('nariz', 'nose'),\n",
       " ('boca', 'mouth'),\n",
       " ('diente', 'tooth'),\n",
       " ('lengua', 'tongue'),\n",
       " ('uña', 'fingernail'),\n",
       " ('pie', 'foot'),\n",
       " ('pierna', 'leg'),\n",
       " ('rodilla', 'knee'),\n",
       " ('mano', 'hand'),\n",
       " ('ala', 'wing'),\n",
       " ('barriga, vientre, panza', 'belly'),\n",
       " ('entrañas, tripas', 'guts'),\n",
       " ('cuello', 'neck'),\n",
       " ('espalda', 'back'),\n",
       " ('pecho, seno', 'breast'),\n",
       " ('corazón', 'heart'),\n",
       " ('hígado', 'liver'),\n",
       " ('beber, tomar', 'drink'),\n",
       " ('comer', 'eat'),\n",
       " ('morder', 'bite'),\n",
       " ('chupar', 'suck'),\n",
       " ('escupir', 'spit'),\n",
       " ('vomitar', 'vomit'),\n",
       " ('soplar', 'blow'),\n",
       " ('respirar', 'breathe'),\n",
       " ('reír', 'laugh'),\n",
       " ('ver', 'see'),\n",
       " ('oír', 'hear'),\n",
       " ('saber', 'know (a fact)'),\n",
       " ('pensar', 'think'),\n",
       " ('oler', 'smell'),\n",
       " ('temer', 'fear'),\n",
       " ('dormir', 'sleep'),\n",
       " ('vivir', 'live'),\n",
       " ('morir', 'die'),\n",
       " ('matar', 'kill'),\n",
       " ('pelear', 'fight'),\n",
       " ('cazar', 'hunt'),\n",
       " ('golpear', 'hit'),\n",
       " ('cortar', 'cut'),\n",
       " ('partir', 'split'),\n",
       " ('apuñalar', 'stab'),\n",
       " ('arañar, rascar', 'scratch'),\n",
       " ('cavar', 'dig'),\n",
       " ('nadar', 'swim'),\n",
       " ('volar', 'fly (verb)'),\n",
       " ('caminar', 'walk'),\n",
       " ('venir', 'come'),\n",
       " ('echarse, acostarse, tenderse', 'lie'),\n",
       " ('sentarse', 'sit'),\n",
       " ('estar de pie', 'stand'),\n",
       " ('voltear', 'turn'),\n",
       " ('caer', 'fall'),\n",
       " ('dar', 'give'),\n",
       " ('sostener', 'hold'),\n",
       " ('apretar', 'squeeze'),\n",
       " ('frotar', 'rub'),\n",
       " ('lavar', 'wash'),\n",
       " ('limpiar', 'wipe'),\n",
       " ('tirar', 'pull'),\n",
       " ('empujar', 'push'),\n",
       " ('tirar', 'throw'),\n",
       " ('atar', 'tie'),\n",
       " ('coser', 'sew'),\n",
       " ('contar', 'count'),\n",
       " ('decir', 'say'),\n",
       " ('cantar', 'sing'),\n",
       " ('jugar', 'play'),\n",
       " ('flotar', 'float'),\n",
       " ('fluir', 'flow'),\n",
       " ('helar', 'freeze'),\n",
       " ('hincharse', 'swell'),\n",
       " ('sol', 'sun'),\n",
       " ('luna', 'moon'),\n",
       " ('estrella', 'star'),\n",
       " ('agua', 'water'),\n",
       " ('lluvia', 'rain'),\n",
       " ('río', 'river'),\n",
       " ('lago', 'lake'),\n",
       " ('mar', 'sea'),\n",
       " ('sal', 'salt'),\n",
       " ('piedra', 'stone'),\n",
       " ('arena', 'sand'),\n",
       " ('polvo', 'dust'),\n",
       " ('tierra', 'earth'),\n",
       " ('nube', 'cloud'),\n",
       " ('niebla', 'fog'),\n",
       " ('cielo', 'sky'),\n",
       " ('viento', 'wind'),\n",
       " ('nieve', 'snow'),\n",
       " ('hielo', 'ice'),\n",
       " ('humo', 'smoke'),\n",
       " ('fuego', 'fire'),\n",
       " ('cenizas', 'ashes'),\n",
       " ('quemar', 'burn'),\n",
       " ('camino', 'road'),\n",
       " ('montaña', 'mountain'),\n",
       " ('rojo', 'red'),\n",
       " ('verde', 'green'),\n",
       " ('amarillo', 'yellow'),\n",
       " ('blanco', 'white'),\n",
       " ('negro', 'black'),\n",
       " ('noche', 'night'),\n",
       " ('día', 'day'),\n",
       " ('año', 'year'),\n",
       " ('cálido, tibio', 'warm'),\n",
       " ('frío', 'cold'),\n",
       " ('lleno', 'full'),\n",
       " ('nuevo', 'new'),\n",
       " ('viejo', 'old'),\n",
       " ('bueno', 'good'),\n",
       " ('malo', 'bad'),\n",
       " ('podrido', 'rotten'),\n",
       " ('sucio', 'dirty'),\n",
       " ('recto', 'straight'),\n",
       " ('redondo', 'round'),\n",
       " ('afilado', 'sharp'),\n",
       " ('desafilado', 'dull'),\n",
       " ('suave, liso', 'smooth'),\n",
       " ('mojado', 'wet'),\n",
       " ('seco', 'dry'),\n",
       " ('correcto', 'correct'),\n",
       " ('cerca', 'near'),\n",
       " ('lejos', 'far'),\n",
       " ('derecha', 'right'),\n",
       " ('izquierda', 'left'),\n",
       " ('a, en, ante', 'at'),\n",
       " ('en', 'in'),\n",
       " ('con', 'with'),\n",
       " ('y', 'and'),\n",
       " ('si', 'if'),\n",
       " ('porque', 'because'),\n",
       " ('nombre', 'name')]"
      ]
     },
     "execution_count": 23,
     "metadata": {},
     "output_type": "execute_result"
    }
   ],
   "source": [
    "Spanish_to_English = swadesh.entries(['es', 'en'])\n",
    "Spanish_to_English"
   ]
  },
  {
   "cell_type": "code",
   "execution_count": 20,
   "metadata": {},
   "outputs": [
    {
     "data": {
      "text/plain": [
       "'feather'"
      ]
     },
     "execution_count": 20,
     "metadata": {},
     "output_type": "execute_result"
    }
   ],
   "source": [
    "translate = dict(Spanish_to_English)\n",
    "translate['pluma']"
   ]
  },
  {
   "cell_type": "markdown",
   "metadata": {},
   "source": [
    "English to Spanish pairs"
   ]
  },
  {
   "cell_type": "code",
   "execution_count": null,
   "metadata": {},
   "outputs": [],
   "source": [
    "swadesh.words('en')\n",
    "English_to_Spanish = swadesh.entries(['en', 'es'])\n",
    "English_to_Spanish"
   ]
  },
  {
   "cell_type": "code",
   "execution_count": 22,
   "metadata": {},
   "outputs": [
    {
     "data": {
      "text/plain": [
       "'izquierda'"
      ]
     },
     "execution_count": 22,
     "metadata": {},
     "output_type": "execute_result"
    }
   ],
   "source": [
    "translate = dict(English_to_Spanish)\n",
    "translate['left']"
   ]
  },
  {
   "cell_type": "code",
   "execution_count": null,
   "metadata": {},
   "outputs": [],
   "source": []
  }
 ],
 "metadata": {
  "kernelspec": {
   "display_name": "Python 3",
   "language": "python",
   "name": "python3"
  },
  "language_info": {
   "codemirror_mode": {
    "name": "ipython",
    "version": 3
   },
   "file_extension": ".py",
   "mimetype": "text/x-python",
   "name": "python",
   "nbconvert_exporter": "python",
   "pygments_lexer": "ipython3",
   "version": "3.7.6"
  }
 },
 "nbformat": 4,
 "nbformat_minor": 4
}
